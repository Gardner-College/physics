{
 "cells": [
  {
   "cell_type": "markdown",
   "id": "9bfeffa8-a04e-4f7c-a163-74d0b3b99782",
   "metadata": {},
   "source": [
    "- **Name:**\n",
    "- **Term:**"
   ]
  },
  {
   "cell_type": "markdown",
   "id": "5faf3fd9-fe20-406f-87c4-35de2451f534",
   "metadata": {},
   "source": [
    "# Kinematics: Motion in One and Two Dimensions\n",
    "Understanding Motion, Equations, and Applications"
   ]
  },
  {
   "cell_type": "markdown",
   "id": "81aa2652-f0ad-46c4-96ae-ddd88e724eef",
   "metadata": {},
   "source": [
    "## Introduction to Kinematics\n",
    "Kinematics describes motion without considering forces. It includes displacement, velocity, acceleration, and time."
   ]
  },
  {
   "cell_type": "markdown",
   "id": "0cf0231a-7712-46c0-a63e-811479b6ba6a",
   "metadata": {},
   "source": [
    "## Motion in One Dimension (1D)\n",
    "- Displacement and Distance\n",
    "- Speed and Velocity\n",
    "- Acceleration\n",
    "- Equations of Motion (Constant Acceleration)"
   ]
  },
  {
   "cell_type": "markdown",
   "id": "f5b63362-ab1a-405a-8d3b-500f5bb38973",
   "metadata": {},
   "source": [
    "## Equations of Motion\n",
    "1. v = u + at\n",
    "2. s = ut + ½ at²\n",
    "3. v² = u² + 2as"
   ]
  },
  {
   "cell_type": "code",
   "execution_count": null,
   "id": "aa92a672",
   "metadata": {},
   "outputs": [],
   "source": [
    "import numpy as np\n",
    "import matplotlib.pyplot as plt"
   ]
  },
  {
   "cell_type": "code",
   "execution_count": null,
   "id": "b2b27737",
   "metadata": {},
   "outputs": [],
   "source": [
    "\n",
    "# Function to demonstrate 1D motion\n",
    "def motion_1D(u, a, t):\n",
    "    \"\"\"Plots displacement vs. time for motion in one dimension.\"\"\"\n",
    "    t_vals = np.linspace(0, t, num=100)\n",
    "    s_vals = u * t_vals + 0.5 * a * t_vals**2\n",
    "    \n",
    "    plt.figure(figsize=(8, 5))\n",
    "    plt.plot(t_vals, s_vals, label=f'Initial velocity: {u} m/s, Acceleration: {a} m/s²')\n",
    "    plt.xlabel('Time (s)')\n",
    "    plt.ylabel('Displacement (m)')\n",
    "    plt.title('1D Motion: Displacement vs. Time')\n",
    "    plt.legend()\n",
    "    plt.grid()\n",
    "    plt.show()\n"
   ]
  },
  {
   "cell_type": "code",
   "execution_count": null,
   "id": "ccfa1183-de43-4408-8188-d7f8d386101a",
   "metadata": {},
   "outputs": [],
   "source": [
    "# Execute Function\n",
    "motion_1D(10, 2, 5)"
   ]
  },
  {
   "cell_type": "markdown",
   "id": "85721b16-e5bc-424c-a428-4da2b0d78cf2",
   "metadata": {},
   "source": [
    "## Motion in Two Dimensions (2D)\n",
    "- Motion in a Plane\n",
    "- Vector Representation\n",
    "- Equations for 2D Motion\n",
    "- Projectile Motion"
   ]
  },
  {
   "cell_type": "markdown",
   "id": "940d45e6-7c97-4cab-a7b7-699f705ccd8c",
   "metadata": {},
   "source": [
    "## Projectile Motion\n",
    "Projectile motion involves an object launched into the air following a curved trajectory under gravity."
   ]
  },
  {
   "cell_type": "markdown",
   "id": "d27dff98-3b0c-4e63-9d4a-448d99c2747d",
   "metadata": {},
   "source": [
    "## Key Equations in Projectile Motion\n",
    "- Time of Flight: T = 2u_y / g\n",
    "- Maximum Height: H = u_y² / 2g\n",
    "- Range: R = u² sin(2θ) / g"
   ]
  },
  {
   "cell_type": "code",
   "execution_count": null,
   "id": "1382f2be",
   "metadata": {},
   "outputs": [],
   "source": [
    "\n",
    "# Function to demonstrate projectile motion\n",
    "def projectile_motion(u, theta, g=9.8):\n",
    "    \"\"\"Plots the trajectory of projectile motion.\"\"\"\n",
    "    theta_rad = np.radians(theta)\n",
    "    u_x = u * np.cos(theta_rad)\n",
    "    u_y = u * np.sin(theta_rad)\n",
    "    \n",
    "    t_flight = (2 * u_y) / g\n",
    "    t_vals = np.linspace(0, t_flight, num=100)\n",
    "    \n",
    "    x_vals = u_x * t_vals\n",
    "    y_vals = u_y * t_vals - 0.5 * g * t_vals**2\n",
    "    \n",
    "    plt.figure(figsize=(8, 5))\n",
    "    plt.plot(x_vals, y_vals, label=f'Initial velocity: {u} m/s, Angle: {theta}°')\n",
    "    plt.xlabel('Horizontal Distance (m)')\n",
    "    plt.ylabel('Vertical Distance (m)')\n",
    "    plt.title('Projectile Motion')\n",
    "    plt.legend()\n",
    "    plt.grid()\n",
    "    plt.show()\n"
   ]
  },
  {
   "cell_type": "code",
   "execution_count": null,
   "id": "7264fcd9",
   "metadata": {},
   "outputs": [],
   "source": [
    "# Execute Function\n",
    "projectile_motion(20, 45)"
   ]
  }
 ],
 "metadata": {
  "kernelspec": {
   "display_name": "Python 3 (ipykernel)",
   "language": "python",
   "name": "python3"
  },
  "language_info": {
   "codemirror_mode": {
    "name": "ipython",
    "version": 3
   },
   "file_extension": ".py",
   "mimetype": "text/x-python",
   "name": "python",
   "nbconvert_exporter": "python",
   "pygments_lexer": "ipython3",
   "version": "3.12.8"
  }
 },
 "nbformat": 4,
 "nbformat_minor": 5
}
