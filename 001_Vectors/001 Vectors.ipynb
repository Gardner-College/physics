{
 "cells": [
  {
   "cell_type": "markdown",
   "id": "afdc6b37-28e0-4738-bf60-bfe4efa01464",
   "metadata": {},
   "source": [
    "- **Name:**\n",
    "- **Term:**"
   ]
  },
  {
   "cell_type": "markdown",
   "id": "a6e9d53b",
   "metadata": {},
   "source": [
    "### Vectors in Physics and Engineering\n",
    "\n",
    "Vectors are essential in physics and engineering because they allow us to represent quantities that have both magnitude and direction. Examples of such quantities include displacement, velocity, force, and acceleration.\n",
    "\n",
    "In this notebook, we will:\n",
    "- Understand the basics of vectors\n",
    "- Perform operations like addition, subtraction, and scalar multiplication\n",
    "- Explore applications of vectors in engineering problems"
   ]
  },
  {
   "cell_type": "markdown",
   "id": "c17cac97",
   "metadata": {},
   "source": [
    "### Scalars vs. Vectors\n",
    "- **Scalars**: Quantities with only magnitude (e.g., mass, temperature).\n",
    "- **Vectors**: Quantities with both magnitude and direction (e.g., force, velocity).\n",
    "\n",
    "Mathematically, a vector is represented as:\n",
    "$[ \\vec{A} = \\langle A_x, A_y, A_z \\rangle ]$\n",
    "where $( A_x, A_y, A_z )$ are the components of the vector along the x, y, and z axes."
   ]
  },
  {
   "cell_type": "code",
   "execution_count": null,
   "id": "e9182c82-3dc7-4822-a9b0-a3c1af8a9b27",
   "metadata": {},
   "outputs": [],
   "source": [
    "!pip install numpy"
   ]
  },
  {
   "cell_type": "code",
   "execution_count": null,
   "id": "c660286c",
   "metadata": {},
   "outputs": [],
   "source": [
    "import numpy as np\n",
    "\n",
    "# Define two vectors\n",
    "A = np.array([3, 4, 0])  # Vector A\n",
    "B = np.array([1, 2, 3])  # Vector B\n",
    "\n",
    "print(\"Vector A:\", A)\n",
    "print(\"Vector B:\", B)"
   ]
  },
  {
   "cell_type": "markdown",
   "id": "fcd75837",
   "metadata": {},
   "source": [
    "### Vector Operations\n",
    "#### 1. **Addition**\n",
    "$[ \\vec{C} = \\vec{A} + \\vec{B} ]$"
   ]
  },
  {
   "cell_type": "code",
   "execution_count": null,
   "id": "39196b6e",
   "metadata": {},
   "outputs": [],
   "source": [
    "# Vector addition\n",
    "C = A + B\n",
    "print(\"A + B =\", C)"
   ]
  },
  {
   "cell_type": "markdown",
   "id": "a461b762",
   "metadata": {},
   "source": [
    "#### 2. **Subtraction**\n",
    "$[ \\vec{C} = \\vec{A} - \\vec{B} ]$"
   ]
  },
  {
   "cell_type": "code",
   "execution_count": null,
   "id": "772b5dac",
   "metadata": {},
   "outputs": [],
   "source": [
    "# Vector subtraction\n",
    "C = A - B\n",
    "print(\"A - B =\", C)"
   ]
  },
  {
   "cell_type": "markdown",
   "id": "fc01f938",
   "metadata": {},
   "source": [
    "#### 3. **Scalar Multiplication**\n",
    "$[ \\vec{C} = k \\cdot \\vec{A} ]$"
   ]
  },
  {
   "cell_type": "code",
   "execution_count": null,
   "id": "b689e66e",
   "metadata": {},
   "outputs": [],
   "source": [
    "# Scalar multiplication\n",
    "k = 2\n",
    "C = k * A\n",
    "print(f\"{k} * A =\", C)"
   ]
  },
  {
   "cell_type": "markdown",
   "id": "8f2b4f49",
   "metadata": {},
   "source": [
    "#### 4. **Dot Product**\n",
    "The dot product measures the projection of one vector onto another.\n",
    "$[ \\vec{A} \\cdot \\vec{B} = A_x B_x + A_y B_y + A_z B_z ]$"
   ]
  },
  {
   "cell_type": "code",
   "execution_count": null,
   "id": "64514d6f",
   "metadata": {},
   "outputs": [],
   "source": [
    "# Dot product\n",
    "dot_product = np.dot(A, B)\n",
    "print(\"Dot product A · B =\", dot_product)"
   ]
  },
  {
   "cell_type": "markdown",
   "id": "925628c5",
   "metadata": {},
   "source": [
    "#### 5. **Cross Product**\n",
    "The cross product results in a vector perpendicular to the plane formed by two vectors.\n",
    "$[ \\vec{C} = \\vec{A} \\times \\vec{B} ]$"
   ]
  },
  {
   "cell_type": "code",
   "execution_count": null,
   "id": "22463d20",
   "metadata": {},
   "outputs": [],
   "source": [
    "# Cross product\n",
    "cross_product = np.cross(A, B)\n",
    "print(\"Cross product A × B =\", cross_product)"
   ]
  },
  {
   "cell_type": "markdown",
   "id": "4e68bd3b",
   "metadata": {},
   "source": [
    "### Applications in Engineering\n",
    "1. **Statics**: Calculating forces acting on structures.\n",
    "2. **Kinematics**: Analyzing motion in 2D and 3D spaces.\n",
    "3. **Electromagnetism**: Representing electric and magnetic fields.\n",
    "\n",
    "#### Example Problem: Force Equilibrium\n",
    "A structure is in equilibrium under the action of three forces:\n",
    "$[ \\vec{F_1} = \\langle 5, 0, 0 \\rangle, \\quad \\vec{F_2} = \\langle -3, 4, 0 \\rangle ]$\n",
    "Find the third force $( \\vec{F_3} )$."
   ]
  },
  {
   "cell_type": "code",
   "execution_count": null,
   "id": "23b4d45a",
   "metadata": {},
   "outputs": [],
   "source": [
    "# Forces in equilibrium\n",
    "F1 = np.array([5, 0, 0])\n",
    "F2 = np.array([-3, 4, 0])\n",
    "F3 = -(F1 + F2)  # Sum of forces must be zero\n",
    "print(\"Force F3:\", F3)"
   ]
  },
  {
   "cell_type": "markdown",
   "id": "f07a618b",
   "metadata": {},
   "source": [
    "### Visualization\n",
    "Using Python's `matplotlib`, vectors can be visualized in 2D or 3D with enhanced features like labeled axes, gridlines, and customized colors for better clarity."
   ]
  },
  {
   "cell_type": "code",
   "execution_count": null,
   "id": "19b1f968-c9f6-45a6-9adb-46f48fe1fdcb",
   "metadata": {},
   "outputs": [],
   "source": [
    "!pip install matplotlib"
   ]
  },
  {
   "cell_type": "code",
   "execution_count": null,
   "id": "6b0ea2c9",
   "metadata": {},
   "outputs": [],
   "source": [
    "import matplotlib.pyplot as plt\n",
    "from mpl_toolkits.mplot3d import Axes3D\n",
    "\n",
    "fig = plt.figure(figsize=(8, 6))\n",
    "ax = fig.add_subplot(111, projection='3d')\n",
    "\n",
    "# Plot forces\n",
    "ax.quiver(0, 0, 0, F1[0], F1[1], F1[2], color='r', label='F1', linewidth=2)\n",
    "ax.quiver(0, 0, 0, F2[0], F2[1], F2[2], color='b', label='F2', linewidth=2)\n",
    "ax.quiver(0, 0, 0, F3[0], F3[1], F3[2], color='g', label='F3', linewidth=2, linestyle='dotted')\n",
    "\n",
    "# Set axis limits\n",
    "ax.set_xlim([-5, 6])\n",
    "ax.set_ylim([-5, 6])\n",
    "ax.set_zlim([-5, 6])\n",
    "\n",
    "# Add gridlines and labels\n",
    "ax.grid(True)\n",
    "ax.set_xlabel(\"X-axis\")\n",
    "ax.set_ylabel(\"Y-axis\")\n",
    "ax.set_zlabel(\"Z-axis\")\n",
    "ax.set_title(\"Force Equilibrium Visualization\")\n",
    "\n",
    "# Add legend\n",
    "plt.legend()\n",
    "plt.show()"
   ]
  }
 ],
 "metadata": {
  "kernelspec": {
   "display_name": "Python 3 (ipykernel)",
   "language": "python",
   "name": "python3"
  },
  "language_info": {
   "codemirror_mode": {
    "name": "ipython",
    "version": 3
   },
   "file_extension": ".py",
   "mimetype": "text/x-python",
   "name": "python",
   "nbconvert_exporter": "python",
   "pygments_lexer": "ipython3",
   "version": "3.12.8"
  }
 },
 "nbformat": 4,
 "nbformat_minor": 5
}
